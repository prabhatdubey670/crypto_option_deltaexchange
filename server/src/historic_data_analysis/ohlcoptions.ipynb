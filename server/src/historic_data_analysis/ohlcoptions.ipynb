{
 "cells": [
  {
   "cell_type": "markdown",
   "metadata": {},
   "source": [
    "### OHLC DATA OF OPTIONS \n",
    "### 7:30 to 12:30 next day\n",
    "### save this data to one put sheets and one call sheet then add them to main sheet \n",
    "### Column should have dates of expiry , row 1 should be time of closing and values to be added in them \n"
   ]
  },
  {
   "cell_type": "code",
   "execution_count": 3,
   "metadata": {},
   "outputs": [
    {
     "name": "stdout",
     "output_type": "stream",
     "text": [
      "1719838800\n",
      "1719846000\n",
      "[{'close': 1181, 'high': 1181, 'low': 1181, 'open': 1181, 'time': 1719845100, 'volume': 43}, {'close': 1046, 'high': 1046, 'low': 1046, 'open': 1046, 'time': 1719844200, 'volume': 0}, {'close': 1046, 'high': 1046, 'low': 1046, 'open': 1046, 'time': 1719843300, 'volume': 0}, {'close': 1046, 'high': 1046, 'low': 1046, 'open': 1046, 'time': 1719842400, 'volume': 0}, {'close': 1046, 'high': 1084, 'low': 1046, 'open': 1084, 'time': 1719841500, 'volume': 11}, {'close': 1109, 'high': 1109, 'low': 1109, 'open': 1109, 'time': 1719840600, 'volume': 0}, {'close': 1109, 'high': 1109, 'low': 1077, 'open': 1077, 'time': 1719839700, 'volume': 16}, {'close': 1201, 'high': 1201, 'low': 1201, 'open': 1201, 'time': 1719838800, 'volume': 10}]\n",
      "Data saved to historical_data_o.xlsx\n"
     ]
    }
   ],
   "source": [
    "import requests\n",
    "import pandas as pd\n",
    "import datetime\n",
    "from datetime import timezone\n",
    "\n",
    "\n",
    "\n",
    "def convert_to_utc_unix(dt):\n",
    "    \"\"\"Converts a datetime object to UTC and then to Unix timestamp.\"\"\"\n",
    "    utc_dt = dt.astimezone(timezone.utc)\n",
    "    unix_time = int(utc_dt.timestamp())\n",
    "    return unix_time\n",
    "\n",
    "# Assuming your start_time and end_time are already datetime objects\n",
    "start_time = datetime.datetime(2024, 7, 1, 18, 30, 0)\n",
    "end_time = datetime.datetime(2024, 7, 1, 20, 30, 0)\n",
    "\n",
    "# Convert to UTC and then to Unix timestamp\n",
    "unix_start = convert_to_utc_unix(start_time)\n",
    "unix_end = convert_to_utc_unix(end_time)\n",
    "\n",
    "print(unix_start)\n",
    "print(unix_end)\n",
    "symbol = \"C-BTC-61800-020724\"\n",
    "resolution = \"15m\"\n",
    "params = {\n",
    "    'resolution': resolution,\n",
    "    'symbol': symbol,\n",
    "    'start': f\"{unix_start}\",\n",
    "    'end': f\"{unix_end}\"\n",
    "}\n",
    "response = requests.get(\"https://cdn.india.deltaex.org/v2/history/candles\", params=params)\n",
    "\n",
    "# Extract the 'result' key which contains the data\n",
    "data = response.json()['result']\n",
    "close_data = [{'time': entry['time'], 'close': entry['close']} for entry in data]\n",
    "print(data)\n",
    "# Create a DataFrame\n",
    "# df = pd.DataFrame(close_data)\n",
    "# df['time'] = pd.to_datetime(df['time'], unit='s')\n",
    "# df['time'] = df['time'].dt.tz_localize('UTC').dt.tz_convert('Asia/Kolkata')\n",
    "# df['time'] = df['time'].dt.strftime('%H:%M:%S')\n",
    "\n",
    "# Prepare the data for Excel\n",
    "# time_values = df['time'].tolist()\n",
    "# close_values = df['close'].tolist()\n",
    "\n",
    "# # Create a new DataFrame for the Excel format\n",
    "# df_excel = pd.DataFrame(columns=['EXPIRY DATE'] + time_values)\n",
    "# df_excel.loc[1, 'EXPIRY DATE'] = end_time.strftime('%Y-%m-%d')\n",
    "# for i, close in enumerate(close_values):\n",
    "#     df_excel.loc[1, time_values[i]] = close\n",
    "\n",
    "# # with pd.ExcelWriter('historical_data_o.xlsx', engine='xlsxwriter') as writer:\n",
    "# #     df_excel.to_excel(writer, sheet_name='Calls', index=False)\n",
    "# print(df)\n",
    "print(\"Data saved to historical_data_o.xlsx\")\n"
   ]
  },
  {
   "cell_type": "code",
   "execution_count": 6,
   "metadata": {},
   "outputs": [
    {
     "data": {
      "text/plain": [
       "61600"
      ]
     },
     "execution_count": 6,
     "metadata": {},
     "output_type": "execute_result"
    }
   ],
   "source": [
    "import requests\n",
    "import math \n",
    "def get_historical_atm(unix_start,resolution,index):\n",
    "        start = unix_start - 3600\n",
    "        end = unix_start \n",
    "        resolution = resolution\n",
    "        params = {\n",
    "        'resolution': resolution,\n",
    "        'symbol': f\"{index}USD\",\n",
    "        'start': f\"{start}\",\n",
    "        'end': f\"{end}\"\n",
    "        }\n",
    "        response = requests.get(\"https://cdn.india.deltaex.org/v2/history/candles\", params=params)\n",
    "        data = response.json()['result']\n",
    "        close = data[1]['close']    \n",
    "        atm_value =  int(math.floor(close / 200.0)) * 200\n",
    "        return atm_value \n",
    "\n",
    "get_historical_atm(1719763200,'1h',\"BTC\")     "
   ]
  },
  {
   "cell_type": "code",
   "execution_count": 6,
   "metadata": {},
   "outputs": [
    {
     "name": "stdout",
     "output_type": "stream",
     "text": [
      "010724\n"
     ]
    },
    {
     "ename": "AttributeError",
     "evalue": "module 'datetime' has no attribute 'strptime'",
     "output_type": "error",
     "traceback": [
      "\u001b[1;31m---------------------------------------------------------------------------\u001b[0m",
      "\u001b[1;31mAttributeError\u001b[0m                            Traceback (most recent call last)",
      "Cell \u001b[1;32mIn[6], line 7\u001b[0m\n\u001b[0;32m      5\u001b[0m \u001b[38;5;28mprint\u001b[39m(end_time\u001b[38;5;241m.\u001b[39mstrftime(\u001b[38;5;124m'\u001b[39m\u001b[38;5;132;01m%d\u001b[39;00m\u001b[38;5;124m%\u001b[39m\u001b[38;5;124mm\u001b[39m\u001b[38;5;124m%\u001b[39m\u001b[38;5;124my\u001b[39m\u001b[38;5;124m'\u001b[39m))\n\u001b[0;32m      6\u001b[0m utc_dt \u001b[38;5;241m=\u001b[39m \u001b[38;5;124m\"\u001b[39m\u001b[38;5;124m08/04/2022 12:00:00\u001b[39m\u001b[38;5;124m\"\u001b[39m\n\u001b[1;32m----> 7\u001b[0m date \u001b[38;5;241m=\u001b[39m \u001b[43mdatetime\u001b[49m\u001b[38;5;241;43m.\u001b[39;49m\u001b[43mstrptime\u001b[49m(utc_dt, \u001b[38;5;124m'\u001b[39m\u001b[38;5;132;01m%d\u001b[39;00m\u001b[38;5;124m/\u001b[39m\u001b[38;5;124m%\u001b[39m\u001b[38;5;124mm/\u001b[39m\u001b[38;5;124m%\u001b[39m\u001b[38;5;124mY \u001b[39m\u001b[38;5;124m%\u001b[39m\u001b[38;5;124mH:\u001b[39m\u001b[38;5;124m%\u001b[39m\u001b[38;5;124mM:\u001b[39m\u001b[38;5;124m%\u001b[39m\u001b[38;5;124mS\u001b[39m\u001b[38;5;124m'\u001b[39m)\n\u001b[0;32m      8\u001b[0m datetime\u001b[38;5;241m.\u001b[39mtimestamp(date)\n\u001b[0;32m     10\u001b[0m \u001b[38;5;28mprint\u001b[39m(date)\n",
      "\u001b[1;31mAttributeError\u001b[0m: module 'datetime' has no attribute 'strptime'"
     ]
    }
   ],
   "source": [
    "import datetime\n",
    "from datetime import timedelta\n",
    "start_time = datetime.datetime(2024, 6, 30, 21, 30, 0)\n",
    "end_time = start_time + datetime.timedelta(hours=12)\n",
    "print(end_time.strftime('%d%m%y'))\n",
    "utc_dt = \"08/04/2022 12:00:00\"\n",
    "\n"
   ]
  },
  {
   "cell_type": "code",
   "execution_count": 2,
   "metadata": {},
   "outputs": [
    {
     "name": "stdout",
     "output_type": "stream",
     "text": [
      "Start Time: 2024-08-02 21:30:00\n",
      "End Time: 2024-08-03 09:30:00\n"
     ]
    }
   ],
   "source": [
    "import datetime\n",
    "\n",
    "def date(start_time_date):\n",
    "    # Parse the input string into a datetime object\n",
    "    date_obj = datetime.datetime.strptime(start_time_date, \"%d-%m-%Y %I:%M %p\")\n",
    "    \n",
    "    # Construct the start_time with the specified time\n",
    "    start_time = datetime.datetime(date_obj.year, date_obj.month, date_obj.day, date_obj.hour, date_obj.minute, date_obj.second)\n",
    "    \n",
    "    # Calculate end_time as 12 hours after start_time\n",
    "    end_time = start_time + datetime.timedelta(hours=12)\n",
    "    \n",
    "    return start_time, end_time\n",
    "\n",
    "# Example usage\n",
    "start, end = date(\"02-08-2024 9:30 PM\")\n",
    "print(\"Start Time:\", start)\n",
    "print(\"End Time:\", end)\n"
   ]
  },
  {
   "cell_type": "markdown",
   "metadata": {},
   "source": [
    "### GET INDEX PRICES "
   ]
  },
  {
   "cell_type": "code",
   "execution_count": null,
   "metadata": {},
   "outputs": [],
   "source": [
    "import requests\n",
    "import pandas as pd\n",
    "import datetime\n",
    "from datetime import timezone\n",
    "\n",
    "from pymongo import MongoClient\n",
    "\n",
    "def get_ohlc_optiondata( index, resolution, start_time_date, hours, collection):\n",
    "    \n",
    "    \n",
    "    def convert_to_utc_unix(dt):\n",
    "        \"\"\"Converts a datetime object to UTC and then to Unix timestamp.\"\"\"\n",
    "        utc_dt = dt.astimezone(timezone.utc)\n",
    "        unix_time = int(utc_dt.timestamp())\n",
    "        return unix_time\n",
    "\n",
    "    def dates(start_time_date):\n",
    "        \"\"\"Parses the input string into a datetime object.\"\"\"\n",
    "        date_obj = datetime.datetime.strptime(start_time_date, \"%d-%m-%Y %I:%M %p\")\n",
    "        starttime = datetime.datetime(date_obj.year, date_obj.month, date_obj.day, date_obj.hour, date_obj.minute, date_obj.second)\n",
    "        return starttime\n",
    "    \n",
    "    start_time = dates(start_time_date)\n",
    "    end_time = start_time + datetime.timedelta(hours=hours)\n",
    "    \n",
    "    unix_start = convert_to_utc_unix(start_time)\n",
    "    unix_end = convert_to_utc_unix(end_time)\n",
    "\n",
    "    \n",
    "    # symbol = f\"{optiontype}-{index}-{atm_value}-{end_time.strftime('%d%m%y')}\"\n",
    "    symbol = f\"{index}USD\"\n",
    "    params = {\n",
    "        'resolution': resolution,\n",
    "        'symbol': symbol,\n",
    "        'start': f\"{unix_start}\",\n",
    "        'end': f\"{unix_end}\"\n",
    "    }\n",
    "    response = requests.get(\"https://api.delta.exchange/v2/history/candles\", params=params)\n",
    "\n",
    "    data = response.json().get('result', [])\n",
    "    if not data:\n",
    "        print(f\"No data returned for {symbol} from {start_time_date}\")\n",
    "        return  # Skip the rest if there's no data\n",
    "    \n",
    "    close_data = [{'time': entry['time'], 'close': entry['close']} for entry in data if 'time' in entry and 'close' in entry]\n",
    "\n",
    "    if not close_data:\n",
    "        print(f\"No valid data found for {symbol} from {start_time_date}\")\n",
    "        return\n",
    "    \n",
    "    df = pd.DataFrame(close_data)\n",
    "    df['time'] = pd.to_datetime(df['time'], unit='s')\n",
    "    df['time'] = df['time'].dt.tz_localize('UTC').dt.tz_convert('Asia/Kolkata')\n",
    "    df['time'] = df['time'].dt.strftime('%H:%M:%S')\n",
    "\n",
    "    date_data = {row['time']: row['close'] for _, row in df.iterrows()}\n",
    "    document = {\n",
    "        \"Date\": start_time.strftime('%d-%m-%y'),\n",
    "        \n",
    "        \"data\": date_data\n",
    "    }\n",
    "    collection.insert_one(document)\n",
    "    \n",
    "    print(f\"Data for {start_time_date} saved to MongoDB.\")\n",
    "\n",
    "# MongoDB setup\n",
    "client = MongoClient('mongodb://localhost:27017/')\n",
    "db = client['ohlc_data']\n",
    "## be very carefull here \n",
    "collection = db['ETHUSD 2022-2024']\n",
    "\n",
    "# Looping the function get_ohlc_optiondata for the next 30 days\n",
    "start_date = '01-04-2022 06:00 PM'\n",
    "end_date = '30-04-2024 06:00 PM'\n",
    "\n",
    "current_date = datetime.datetime.strptime(start_date, \"%d-%m-%Y %I:%M %p\")\n",
    "end_date = datetime.datetime.strptime(end_date, \"%d-%m-%Y %I:%M %p\")\n",
    "\n",
    "while current_date <= end_date:\n",
    "    start_time_date = current_date.strftime(\"%d-%m-%Y %I:%M %p\")\n",
    "    get_ohlc_optiondata( 'ETH', '2h', start_time_date, 14, collection)\n",
    "    current_date += datetime.timedelta(days=1)\n",
    "\n",
    "\n",
    "\n"
   ]
  },
  {
   "cell_type": "code",
   "execution_count": 27,
   "metadata": {},
   "outputs": [],
   "source": [
    "import pandas as pd\n",
    "\n",
    "df = pd.read_excel('D:/codeputs/ongoing/crypto_option_deltaexchange/server/data/EVENTS_ANALYSIS.xlsx')\n",
    "btc_df = pd.read_excel('D:/codeputs/ongoing/crypto_option_deltaexchange/server/data/ohlc_data.BTCUSD 2020-2024.xlsx')\n",
    "\n",
    "# btc_df['Date'] = pd.to_datetime(btc_df['Date'], format='%d-%m-%y')\n",
    "df['Date'] = df['Date'].astype('datetime64[ns]')\n"
   ]
  },
  {
   "cell_type": "code",
   "execution_count": 1,
   "metadata": {},
   "outputs": [
    {
     "ename": "NameError",
     "evalue": "name 'df' is not defined",
     "output_type": "error",
     "traceback": [
      "\u001b[1;31m---------------------------------------------------------------------------\u001b[0m",
      "\u001b[1;31mNameError\u001b[0m                                 Traceback (most recent call last)",
      "Cell \u001b[1;32mIn[1], line 1\u001b[0m\n\u001b[1;32m----> 1\u001b[0m \u001b[43mdf\u001b[49m\n",
      "\u001b[1;31mNameError\u001b[0m: name 'df' is not defined"
     ]
    }
   ],
   "source": [
    "df"
   ]
  }
 ],
 "metadata": {
  "kernelspec": {
   "display_name": "Python 3",
   "language": "python",
   "name": "python3"
  },
  "language_info": {
   "codemirror_mode": {
    "name": "ipython",
    "version": 3
   },
   "file_extension": ".py",
   "mimetype": "text/x-python",
   "name": "python",
   "nbconvert_exporter": "python",
   "pygments_lexer": "ipython3",
   "version": "3.12.1"
  }
 },
 "nbformat": 4,
 "nbformat_minor": 2
}
